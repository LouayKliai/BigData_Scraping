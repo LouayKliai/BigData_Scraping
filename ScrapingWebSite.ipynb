{
  "nbformat": 4,
  "nbformat_minor": 0,
  "metadata": {
    "colab": {
      "provenance": [],
      "authorship_tag": "ABX9TyODQx898pV9kz042E3NfrTq",
      "include_colab_link": true
    },
    "kernelspec": {
      "name": "python3",
      "display_name": "Python 3"
    },
    "language_info": {
      "name": "python"
    }
  },
  "cells": [
    {
      "cell_type": "markdown",
      "metadata": {
        "id": "view-in-github",
        "colab_type": "text"
      },
      "source": [
        "<a href=\"https://colab.research.google.com/github/LouayKliai/BigData_Scraping/blob/HouseRentalWebSite/ScrapingWebSite.ipynb\" target=\"_parent\"><img src=\"https://colab.research.google.com/assets/colab-badge.svg\" alt=\"Open In Colab\"/></a>"
      ]
    },
    {
      "cell_type": "code",
      "execution_count": null,
      "metadata": {
        "colab": {
          "base_uri": "https://localhost:8080/"
        },
        "id": "CSsfXOwa2jfU",
        "outputId": "db5bfe56-d9a1-4616-e14d-1254947f38b5"
      },
      "outputs": [
        {
          "output_type": "stream",
          "name": "stdout",
          "text": [
            "Collecting scrapy\n",
            "  Downloading Scrapy-2.11.0-py2.py3-none-any.whl (286 kB)\n",
            "\u001b[2K     \u001b[90m━━━━━━━━━━━━━━━━━━━━━━━━━━━━━━━━━━━━━━━━\u001b[0m \u001b[32m286.4/286.4 kB\u001b[0m \u001b[31m4.0 MB/s\u001b[0m eta \u001b[36m0:00:00\u001b[0m\n",
            "\u001b[?25hCollecting Twisted<23.8.0,>=18.9.0 (from scrapy)\n",
            "  Downloading Twisted-22.10.0-py3-none-any.whl (3.1 MB)\n",
            "\u001b[2K     \u001b[90m━━━━━━━━━━━━━━━━━━━━━━━━━━━━━━━━━━━━━━━━\u001b[0m \u001b[32m3.1/3.1 MB\u001b[0m \u001b[31m14.8 MB/s\u001b[0m eta \u001b[36m0:00:00\u001b[0m\n",
            "\u001b[?25hRequirement already satisfied: cryptography>=36.0.0 in /usr/local/lib/python3.10/dist-packages (from scrapy) (41.0.5)\n",
            "Collecting cssselect>=0.9.1 (from scrapy)\n",
            "  Downloading cssselect-1.2.0-py2.py3-none-any.whl (18 kB)\n",
            "Collecting itemloaders>=1.0.1 (from scrapy)\n",
            "  Downloading itemloaders-1.1.0-py3-none-any.whl (11 kB)\n",
            "Collecting parsel>=1.5.0 (from scrapy)\n",
            "  Downloading parsel-1.8.1-py2.py3-none-any.whl (17 kB)\n",
            "Requirement already satisfied: pyOpenSSL>=21.0.0 in /usr/local/lib/python3.10/dist-packages (from scrapy) (23.3.0)\n",
            "Collecting queuelib>=1.4.2 (from scrapy)\n",
            "  Downloading queuelib-1.6.2-py2.py3-none-any.whl (13 kB)\n",
            "Collecting service-identity>=18.1.0 (from scrapy)\n",
            "  Downloading service_identity-23.1.0-py3-none-any.whl (12 kB)\n",
            "Collecting w3lib>=1.17.0 (from scrapy)\n",
            "  Downloading w3lib-2.1.2-py3-none-any.whl (21 kB)\n",
            "Collecting zope.interface>=5.1.0 (from scrapy)\n",
            "  Downloading zope.interface-6.1-cp310-cp310-manylinux_2_5_x86_64.manylinux1_x86_64.manylinux_2_17_x86_64.manylinux2014_x86_64.whl (247 kB)\n",
            "\u001b[2K     \u001b[90m━━━━━━━━━━━━━━━━━━━━━━━━━━━━━━━━━━━━━━━━\u001b[0m \u001b[32m247.1/247.1 kB\u001b[0m \u001b[31m24.0 MB/s\u001b[0m eta \u001b[36m0:00:00\u001b[0m\n",
            "\u001b[?25hCollecting protego>=0.1.15 (from scrapy)\n",
            "  Downloading Protego-0.3.0-py2.py3-none-any.whl (8.5 kB)\n",
            "Collecting itemadapter>=0.1.0 (from scrapy)\n",
            "  Downloading itemadapter-0.8.0-py3-none-any.whl (11 kB)\n",
            "Requirement already satisfied: setuptools in /usr/local/lib/python3.10/dist-packages (from scrapy) (67.7.2)\n",
            "Requirement already satisfied: packaging in /usr/local/lib/python3.10/dist-packages (from scrapy) (23.2)\n",
            "Collecting tldextract (from scrapy)\n",
            "  Downloading tldextract-5.1.0-py3-none-any.whl (97 kB)\n",
            "\u001b[2K     \u001b[90m━━━━━━━━━━━━━━━━━━━━━━━━━━━━━━━━━━━━━━━━\u001b[0m \u001b[32m97.7/97.7 kB\u001b[0m \u001b[31m14.4 MB/s\u001b[0m eta \u001b[36m0:00:00\u001b[0m\n",
            "\u001b[?25hRequirement already satisfied: lxml>=4.4.1 in /usr/local/lib/python3.10/dist-packages (from scrapy) (4.9.3)\n",
            "Collecting PyDispatcher>=2.0.5 (from scrapy)\n",
            "  Downloading PyDispatcher-2.0.7-py3-none-any.whl (12 kB)\n",
            "Requirement already satisfied: cffi>=1.12 in /usr/local/lib/python3.10/dist-packages (from cryptography>=36.0.0->scrapy) (1.16.0)\n",
            "Collecting jmespath>=0.9.5 (from itemloaders>=1.0.1->scrapy)\n",
            "  Downloading jmespath-1.0.1-py3-none-any.whl (20 kB)\n",
            "Requirement already satisfied: attrs>=19.1.0 in /usr/local/lib/python3.10/dist-packages (from service-identity>=18.1.0->scrapy) (23.1.0)\n",
            "Requirement already satisfied: pyasn1 in /usr/local/lib/python3.10/dist-packages (from service-identity>=18.1.0->scrapy) (0.5.0)\n",
            "Requirement already satisfied: pyasn1-modules in /usr/local/lib/python3.10/dist-packages (from service-identity>=18.1.0->scrapy) (0.3.0)\n",
            "Collecting constantly>=15.1 (from Twisted<23.8.0,>=18.9.0->scrapy)\n",
            "  Downloading constantly-23.10.4-py3-none-any.whl (13 kB)\n",
            "Collecting incremental>=21.3.0 (from Twisted<23.8.0,>=18.9.0->scrapy)\n",
            "  Downloading incremental-22.10.0-py2.py3-none-any.whl (16 kB)\n",
            "Collecting Automat>=0.8.0 (from Twisted<23.8.0,>=18.9.0->scrapy)\n",
            "  Downloading Automat-22.10.0-py2.py3-none-any.whl (26 kB)\n",
            "Collecting hyperlink>=17.1.1 (from Twisted<23.8.0,>=18.9.0->scrapy)\n",
            "  Downloading hyperlink-21.0.0-py2.py3-none-any.whl (74 kB)\n",
            "\u001b[2K     \u001b[90m━━━━━━━━━━━━━━━━━━━━━━━━━━━━━━━━━━━━━━━━\u001b[0m \u001b[32m74.6/74.6 kB\u001b[0m \u001b[31m9.8 MB/s\u001b[0m eta \u001b[36m0:00:00\u001b[0m\n",
            "\u001b[?25hRequirement already satisfied: typing-extensions>=3.6.5 in /usr/local/lib/python3.10/dist-packages (from Twisted<23.8.0,>=18.9.0->scrapy) (4.5.0)\n",
            "Requirement already satisfied: idna in /usr/local/lib/python3.10/dist-packages (from tldextract->scrapy) (3.4)\n",
            "Requirement already satisfied: requests>=2.1.0 in /usr/local/lib/python3.10/dist-packages (from tldextract->scrapy) (2.31.0)\n",
            "Collecting requests-file>=1.4 (from tldextract->scrapy)\n",
            "  Downloading requests_file-1.5.1-py2.py3-none-any.whl (3.7 kB)\n",
            "Requirement already satisfied: filelock>=3.0.8 in /usr/local/lib/python3.10/dist-packages (from tldextract->scrapy) (3.13.1)\n",
            "Requirement already satisfied: six in /usr/local/lib/python3.10/dist-packages (from Automat>=0.8.0->Twisted<23.8.0,>=18.9.0->scrapy) (1.16.0)\n",
            "Requirement already satisfied: pycparser in /usr/local/lib/python3.10/dist-packages (from cffi>=1.12->cryptography>=36.0.0->scrapy) (2.21)\n",
            "Requirement already satisfied: charset-normalizer<4,>=2 in /usr/local/lib/python3.10/dist-packages (from requests>=2.1.0->tldextract->scrapy) (3.3.2)\n",
            "Requirement already satisfied: urllib3<3,>=1.21.1 in /usr/local/lib/python3.10/dist-packages (from requests>=2.1.0->tldextract->scrapy) (2.0.7)\n",
            "Requirement already satisfied: certifi>=2017.4.17 in /usr/local/lib/python3.10/dist-packages (from requests>=2.1.0->tldextract->scrapy) (2023.7.22)\n",
            "Installing collected packages: PyDispatcher, incremental, zope.interface, w3lib, queuelib, protego, jmespath, itemadapter, hyperlink, cssselect, constantly, Automat, Twisted, requests-file, parsel, tldextract, service-identity, itemloaders, scrapy\n",
            "Successfully installed Automat-22.10.0 PyDispatcher-2.0.7 Twisted-22.10.0 constantly-23.10.4 cssselect-1.2.0 hyperlink-21.0.0 incremental-22.10.0 itemadapter-0.8.0 itemloaders-1.1.0 jmespath-1.0.1 parsel-1.8.1 protego-0.3.0 queuelib-1.6.2 requests-file-1.5.1 scrapy-2.11.0 service-identity-23.1.0 tldextract-5.1.0 w3lib-2.1.2 zope.interface-6.1\n"
          ]
        }
      ],
      "source": [
        "!pip install scrapy"
      ]
    },
    {
      "cell_type": "code",
      "source": [
        "%ls\n",
        "%cd sample_data"
      ],
      "metadata": {
        "colab": {
          "base_uri": "https://localhost:8080/"
        },
        "id": "0J4cBURU23fy",
        "outputId": "c1ac2c9d-ed29-456f-d6af-ec331502dfba"
      },
      "execution_count": null,
      "outputs": [
        {
          "output_type": "stream",
          "name": "stdout",
          "text": [
            "\u001b[0m\u001b[01;34msample_data\u001b[0m/\n",
            "/content/sample_data\n"
          ]
        }
      ]
    },
    {
      "cell_type": "code",
      "source": [
        "%ls"
      ],
      "metadata": {
        "colab": {
          "base_uri": "https://localhost:8080/"
        },
        "id": "-gH1CXmc23oc",
        "outputId": "663f284d-4c3d-4124-8aa9-16a0b875a1dc"
      },
      "execution_count": null,
      "outputs": [
        {
          "output_type": "stream",
          "name": "stdout",
          "text": [
            "\u001b[0m\u001b[01;32manscombe.json\u001b[0m*               california_housing_train.csv  mnist_train_small.csv\n",
            "california_housing_test.csv  mnist_test.csv                \u001b[01;32mREADME.md\u001b[0m*\n"
          ]
        }
      ]
    },
    {
      "cell_type": "code",
      "source": [
        "!scrapy startproject ImmpobilierScrapper"
      ],
      "metadata": {
        "colab": {
          "base_uri": "https://localhost:8080/"
        },
        "id": "TpIHiqq-27Ce",
        "outputId": "052e0a8b-3cf5-42bc-e567-8b904f751ff3"
      },
      "execution_count": null,
      "outputs": [
        {
          "output_type": "stream",
          "name": "stdout",
          "text": [
            "New Scrapy project 'ImmpobilierScrapper', using template directory '/usr/local/lib/python3.10/dist-packages/scrapy/templates/project', created in:\n",
            "    /content/sample_data/ImmpobilierScrapper\n",
            "\n",
            "You can start your first spider with:\n",
            "    cd ImmpobilierScrapper\n",
            "    scrapy genspider example example.com\n"
          ]
        }
      ]
    },
    {
      "cell_type": "code",
      "source": [
        "%cd ImmpobilierScrapper"
      ],
      "metadata": {
        "colab": {
          "base_uri": "https://localhost:8080/"
        },
        "id": "RoN1IjQ-3AME",
        "outputId": "043d3eda-4612-4e8b-b8a9-576013cbbeba"
      },
      "execution_count": null,
      "outputs": [
        {
          "output_type": "stream",
          "name": "stdout",
          "text": [
            "/content/sample_data/ImmpobilierScrapper\n"
          ]
        }
      ]
    },
    {
      "cell_type": "code",
      "source": [
        "!scrapy genspider ImmpobilierSpider www.immobiliere.tn"
      ],
      "metadata": {
        "colab": {
          "base_uri": "https://localhost:8080/"
        },
        "id": "ekhjUUhO3DyQ",
        "outputId": "10d63862-4fef-4478-de30-5074c3f22290"
      },
      "execution_count": null,
      "outputs": [
        {
          "output_type": "stream",
          "name": "stdout",
          "text": [
            "Created spider 'ImmpobilierSpider' using template 'basic' in module:\n",
            "  ImmpobilierScrapper.spiders.ImmpobilierSpider\n"
          ]
        }
      ]
    },
    {
      "cell_type": "code",
      "source": [
        "%cd ImmpobilierScrapper\n",
        "!ls spiders\n",
        "!pip install html2text"
      ],
      "metadata": {
        "colab": {
          "base_uri": "https://localhost:8080/"
        },
        "id": "6FH93y-T3G_C",
        "outputId": "4925977f-eb8d-4d40-9d11-a09e692775cd"
      },
      "execution_count": null,
      "outputs": [
        {
          "output_type": "stream",
          "name": "stdout",
          "text": [
            "/content/sample_data/ImmpobilierScrapper/ImmpobilierScrapper\n",
            "ImmpobilierSpider.py  __init__.py  __pycache__\n",
            "Collecting html2text\n",
            "  Downloading html2text-2020.1.16-py3-none-any.whl (32 kB)\n",
            "Installing collected packages: html2text\n",
            "Successfully installed html2text-2020.1.16\n"
          ]
        }
      ]
    },
    {
      "cell_type": "code",
      "source": [
        "%%writefile spiders/ImmpobilierSpider.py\n",
        "import scrapy\n",
        "import html2text\n",
        "from scrapy.exceptions import CloseSpider\n",
        "class ImmpobilierSpider(scrapy.Spider):\n",
        "    name = \"ImmpobilierSpider\"\n",
        "    allowed_domains = [\"www.immobiliere.tn\"]\n",
        "    start_urls = [\"https://immobiliere.tn/\"]\n",
        "\n",
        "    def parse(self, response):\n",
        "\n",
        "        # Extract the data you want from the response\n",
        "        items = response.css('.row > .wow').extract()\n",
        "        converter = html2text.HTML2Text()\n",
        "        for item in items:\n",
        "          html = scrapy.Selector(text=item)\n",
        "          Type = converter.handle(html.css(\"div.thumbnail > .caption > header > .pull-left > h1 > a\").extract_first()).split(\"]\")[0].replace(\"[\", \"\").strip()\n",
        "          Price = converter.handle(html.css(\"div.thumbnail > .caption > header > .price\").extract_first()).strip()\n",
        "          Location = converter.handle(html.css(\"div.thumbnail > .caption > h3 > a\").extract_first()).split(\"]\")[0].replace(\"[\", \"\").replace(\"__\", \"\").strip()\n",
        "          Addr = converter.handle(html.css(\"div.thumbnail > .caption > ul > li\").extract_first()).split(\"]\")[0].replace(\"[\", \"\").replace(\"__\", \"\").strip()\n",
        "          Air = converter.handle(html.css(\"div.thumbnail > .caption > ul > li:nth-child(2) > span\").extract_first()).split(\"]\")[0].replace(\"[\", \"\").replace(\"__\", \"\").strip()\n",
        "          if len(html.css(\"div.thumbnail > .caption > ul > li:nth-child(3) > span\").extract()) != 0:\n",
        "              nbChambre = converter.handle(html.css(\"div.thumbnail > .caption > ul > li:nth-child(3) > span\").extract_first()).strip()\n",
        "          else :\n",
        "              nbChambre = \"0 Chambre\"\n",
        "          print(\"=================================\")\n",
        "          print(Type)\n",
        "          print(Price)\n",
        "          print(Location)\n",
        "          print(Addr)\n",
        "          print(nbChambre)\n",
        "          print(\"=================================\")\n",
        "\n"
      ],
      "metadata": {
        "colab": {
          "base_uri": "https://localhost:8080/"
        },
        "id": "aqiDeVBQ3K2V",
        "outputId": "b4a80805-53c5-4a2f-e45b-06b1ad5f992e"
      },
      "execution_count": null,
      "outputs": [
        {
          "output_type": "stream",
          "name": "stdout",
          "text": [
            "Overwriting spiders/ImmpobilierSpider.py\n"
          ]
        }
      ]
    },
    {
      "cell_type": "code",
      "source": [
        "!scrapy crawl ImmpobilierSpider"
      ],
      "metadata": {
        "colab": {
          "base_uri": "https://localhost:8080/"
        },
        "id": "Dy8gB87r3Ps-",
        "outputId": "9a48cbe2-5140-443b-90d8-53042000ca3a"
      },
      "execution_count": null,
      "outputs": [
        {
          "output_type": "stream",
          "name": "stdout",
          "text": [
            "2023-11-07 22:23:50 [scrapy.utils.log] INFO: Scrapy 2.11.0 started (bot: ImmpobilierScrapper)\n",
            "2023-11-07 22:23:50 [scrapy.utils.log] INFO: Versions: lxml 4.9.3.0, libxml2 2.10.3, cssselect 1.2.0, parsel 1.8.1, w3lib 2.1.2, Twisted 22.10.0, Python 3.10.12 (main, Jun 11 2023, 05:26:28) [GCC 11.4.0], pyOpenSSL 23.3.0 (OpenSSL 3.1.4 24 Oct 2023), cryptography 41.0.5, Platform Linux-5.15.120+-x86_64-with-glibc2.35\n",
            "2023-11-07 22:23:50 [scrapy.addons] INFO: Enabled addons:\n",
            "[]\n",
            "2023-11-07 22:23:50 [asyncio] DEBUG: Using selector: EpollSelector\n",
            "2023-11-07 22:23:50 [scrapy.utils.log] DEBUG: Using reactor: twisted.internet.asyncioreactor.AsyncioSelectorReactor\n",
            "2023-11-07 22:23:50 [scrapy.utils.log] DEBUG: Using asyncio event loop: asyncio.unix_events._UnixSelectorEventLoop\n",
            "2023-11-07 22:23:50 [scrapy.extensions.telnet] INFO: Telnet Password: 12ea9651be440223\n",
            "2023-11-07 22:23:50 [scrapy.middleware] INFO: Enabled extensions:\n",
            "['scrapy.extensions.corestats.CoreStats',\n",
            " 'scrapy.extensions.telnet.TelnetConsole',\n",
            " 'scrapy.extensions.memusage.MemoryUsage',\n",
            " 'scrapy.extensions.logstats.LogStats']\n",
            "2023-11-07 22:23:50 [scrapy.crawler] INFO: Overridden settings:\n",
            "{'BOT_NAME': 'ImmpobilierScrapper',\n",
            " 'FEED_EXPORT_ENCODING': 'utf-8',\n",
            " 'NEWSPIDER_MODULE': 'ImmpobilierScrapper.spiders',\n",
            " 'REQUEST_FINGERPRINTER_IMPLEMENTATION': '2.7',\n",
            " 'ROBOTSTXT_OBEY': True,\n",
            " 'SPIDER_MODULES': ['ImmpobilierScrapper.spiders'],\n",
            " 'TWISTED_REACTOR': 'twisted.internet.asyncioreactor.AsyncioSelectorReactor'}\n",
            "2023-11-07 22:23:51 [scrapy.middleware] INFO: Enabled downloader middlewares:\n",
            "['scrapy.downloadermiddlewares.robotstxt.RobotsTxtMiddleware',\n",
            " 'scrapy.downloadermiddlewares.httpauth.HttpAuthMiddleware',\n",
            " 'scrapy.downloadermiddlewares.downloadtimeout.DownloadTimeoutMiddleware',\n",
            " 'scrapy.downloadermiddlewares.defaultheaders.DefaultHeadersMiddleware',\n",
            " 'scrapy.downloadermiddlewares.useragent.UserAgentMiddleware',\n",
            " 'scrapy.downloadermiddlewares.retry.RetryMiddleware',\n",
            " 'scrapy.downloadermiddlewares.redirect.MetaRefreshMiddleware',\n",
            " 'scrapy.downloadermiddlewares.httpcompression.HttpCompressionMiddleware',\n",
            " 'scrapy.downloadermiddlewares.redirect.RedirectMiddleware',\n",
            " 'scrapy.downloadermiddlewares.cookies.CookiesMiddleware',\n",
            " 'scrapy.downloadermiddlewares.httpproxy.HttpProxyMiddleware',\n",
            " 'scrapy.downloadermiddlewares.stats.DownloaderStats']\n",
            "2023-11-07 22:23:51 [scrapy.middleware] INFO: Enabled spider middlewares:\n",
            "['scrapy.spidermiddlewares.httperror.HttpErrorMiddleware',\n",
            " 'scrapy.spidermiddlewares.offsite.OffsiteMiddleware',\n",
            " 'scrapy.spidermiddlewares.referer.RefererMiddleware',\n",
            " 'scrapy.spidermiddlewares.urllength.UrlLengthMiddleware',\n",
            " 'scrapy.spidermiddlewares.depth.DepthMiddleware']\n",
            "2023-11-07 22:23:51 [scrapy.middleware] INFO: Enabled item pipelines:\n",
            "[]\n",
            "2023-11-07 22:23:51 [scrapy.core.engine] INFO: Spider opened\n",
            "2023-11-07 22:23:51 [scrapy.extensions.logstats] INFO: Crawled 0 pages (at 0 pages/min), scraped 0 items (at 0 items/min)\n",
            "2023-11-07 22:23:51 [scrapy.extensions.telnet] INFO: Telnet console listening on 127.0.0.1:6023\n",
            "2023-11-07 22:23:51 [scrapy.core.engine] DEBUG: Crawled (200) <GET https://immobiliere.tn/robots.txt> (referer: None)\n",
            "2023-11-07 22:23:52 [scrapy.core.engine] DEBUG: Crawled (200) <GET https://immobiliere.tn/> (referer: None)\n",
            "=================================\n",
            "Appartement à Louer\n",
            "3 200 DT / mois\n",
            "TUNIS, LA MARSA\n",
            "*  Zone rurale\n",
            "3 chambres\n",
            "=================================\n",
            "=================================\n",
            "Maison à Louer\n",
            "1 000 DT / mois\n",
            "NABEUL, HAMMAMET\n",
            "*  Zone urbaine\n",
            "2 chambres\n",
            "=================================\n",
            "=================================\n",
            "Appartement à Louer\n",
            "1 200 DT / mois\n",
            "ARIANA, CITE ENNASR\n",
            "*  Zone urbaine\n",
            "0 Chambre\n",
            "=================================\n",
            "=================================\n",
            "Appartement à Vendre\n",
            "380 000 DT\n",
            "SOUSSE, HAMMAM SOUSSE\n",
            "*  Zone urbaine\n",
            "3 chambres\n",
            "=================================\n",
            "=================================\n",
            "Appartement à Vendre\n",
            "915 000 DT\n",
            "ARIANA, LA SOUKRA\n",
            "*  Zone urbaine\n",
            "3 chambres\n",
            "=================================\n",
            "=================================\n",
            "Bureau à Louer\n",
            "1 500 DT / mois\n",
            "TUNIS, AIN ZAGHOUAN\n",
            "*  Zone urbaine\n",
            "2 chambres\n",
            "=================================\n",
            "=================================\n",
            "Villa à Vendre\n",
            "700 000 DT\n",
            "ARIANA, LA SOUKRA\n",
            "*  Zone urbaine\n",
            "6 chambres\n",
            "=================================\n",
            "=================================\n",
            "Étage de villa à Louer\n",
            "2 500 DT / mois\n",
            "TUNIS, LA MARSA\n",
            "*  Zone urbaine\n",
            "0 Chambre\n",
            "=================================\n",
            "=================================\n",
            "Maison à Vendre\n",
            "1 280 000 DT\n",
            "ARIANA, LA SOUKRA\n",
            "*  Zone urbaine\n",
            "5 chambres\n",
            "=================================\n",
            "=================================\n",
            "Terrain à Vendre\n",
            "90 000 DT\n",
            "NABEUL, KELIBIA\n",
            "*  Zone rurale\n",
            "0 Chambre\n",
            "=================================\n",
            "=================================\n",
            "Étage de villa à Vendre\n",
            "360 000 DT\n",
            "ARIANA, ARIANA VILLE\n",
            "*  Zone urbaine\n",
            "3 chambres\n",
            "=================================\n",
            "=================================\n",
            "Immeuble à Vendre\n",
            "670 000 DT\n",
            "NABEUL, GROMBALIA\n",
            "*  Zone urbaine\n",
            "3 chambres\n",
            "=================================\n",
            "=================================\n",
            "Bureau à Vendre\n",
            "350 000 DT\n",
            "TUNIS, Lac\n",
            "*  Zone urbaine\n",
            "3 chambres\n",
            "=================================\n",
            "=================================\n",
            "Étage de villa à Louer\n",
            "650 DT / mois\n",
            "NABEUL, NABEUL VILLE\n",
            "*  Zone urbaine\n",
            "3 chambres\n",
            "=================================\n",
            "=================================\n",
            "Terrain à Vendre\n",
            "60 800 DT\n",
            "ZAGHOUAN, ZAGHOUAN\n",
            "*  Zone urbaine\n",
            "0 Chambre\n",
            "=================================\n",
            "=================================\n",
            "Villa à Vendre\n",
            "1 DT\n",
            "MEDENINE, HOUMET ESSOUK\n",
            "*  Zone urbaine\n",
            "3 chambres\n",
            "=================================\n",
            "=================================\n",
            "Terrain à Vendre\n",
            "2 720 000 DT\n",
            "NABEUL, HAMMAMET MREZGA\n",
            "*  Zone urbaine\n",
            "0 Chambre\n",
            "=================================\n",
            "=================================\n",
            "Bureau à Louer\n",
            "3 500 DT / mois\n",
            "TUNIS, Lac\n",
            "*  Zone urbaine\n",
            "7 chambres\n",
            "=================================\n",
            "=================================\n",
            "Appartement à Vendre\n",
            "295 000 DT\n",
            "ARIANA, GHAZELLA\n",
            "*  Zone urbaine\n",
            "0 Chambre\n",
            "=================================\n",
            "=================================\n",
            "Maison à Vendre\n",
            "1 250 DT\n",
            "NABEUL, EL HAOUARIA\n",
            "*  Zone urbaine\n",
            "3 chambres\n",
            "=================================\n",
            "=================================\n",
            "Villa à Louer\n",
            "3 500 DT / mois\n",
            "NABEUL, HAMMAMET NORD\n",
            "*  Zone urbaine\n",
            "3 chambres\n",
            "=================================\n",
            "=================================\n",
            "Ferme à Vendre\n",
            "240 000 DT\n",
            "SOUSSE,\n",
            "HERGLA\n",
            "*  Zone urbaine\n",
            "0 Chambre\n",
            "=================================\n",
            "=================================\n",
            "Immeuble à Vendre\n",
            "1 500 000 DT\n",
            "SOUSSE, SOUSSE\n",
            "*  Zone urbaine\n",
            "0 Chambre\n",
            "=================================\n",
            "=================================\n",
            "Studio à Louer\n",
            "1 000 DT / mois\n",
            "TUNIS, EL MENZAH\n",
            "*  Zone urbaine\n",
            "1 chambres\n",
            "=================================\n",
            "2023-11-07 22:23:52 [scrapy.core.engine] INFO: Closing spider (finished)\n",
            "2023-11-07 22:23:52 [scrapy.statscollectors] INFO: Dumping Scrapy stats:\n",
            "{'downloader/request_bytes': 440,\n",
            " 'downloader/request_count': 2,\n",
            " 'downloader/request_method_count/GET': 2,\n",
            " 'downloader/response_bytes': 15799,\n",
            " 'downloader/response_count': 2,\n",
            " 'downloader/response_status_count/200': 2,\n",
            " 'elapsed_time_seconds': 1.607058,\n",
            " 'finish_reason': 'finished',\n",
            " 'finish_time': datetime.datetime(2023, 11, 7, 22, 23, 52, 705399, tzinfo=datetime.timezone.utc),\n",
            " 'httpcompression/response_bytes': 110889,\n",
            " 'httpcompression/response_count': 2,\n",
            " 'log_count/DEBUG': 5,\n",
            " 'log_count/INFO': 10,\n",
            " 'memusage/max': 98529280,\n",
            " 'memusage/startup': 98529280,\n",
            " 'response_received_count': 2,\n",
            " 'robotstxt/request_count': 1,\n",
            " 'robotstxt/response_count': 1,\n",
            " 'robotstxt/response_status_count/200': 1,\n",
            " 'scheduler/dequeued': 1,\n",
            " 'scheduler/dequeued/memory': 1,\n",
            " 'scheduler/enqueued': 1,\n",
            " 'scheduler/enqueued/memory': 1,\n",
            " 'start_time': datetime.datetime(2023, 11, 7, 22, 23, 51, 98341, tzinfo=datetime.timezone.utc)}\n",
            "2023-11-07 22:23:52 [scrapy.core.engine] INFO: Spider closed (finished)\n"
          ]
        }
      ]
    }
  ]
}